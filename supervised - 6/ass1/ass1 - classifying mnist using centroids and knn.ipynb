{
 "cells": [
  {
   "cell_type": "markdown",
   "id": "cb5fffbe",
   "metadata": {},
   "source": [
    "# import the libraries"
   ]
  },
  {
   "cell_type": "code",
   "execution_count": 1,
   "id": "0ec292f1",
   "metadata": {},
   "outputs": [],
   "source": [
    "import tensorflow as tf\n",
    "import tensorflow_datasets as tfds\n",
    "import numpy as np\n",
    "from matplotlib import pyplot as plt\n",
    "from sklearn.neighbors import KNeighborsClassifier\n",
    "from sklearn.metrics import accuracy_score"
   ]
  },
  {
   "cell_type": "code",
   "execution_count": 2,
   "id": "d2b291de",
   "metadata": {},
   "outputs": [
    {
     "name": "stdout",
     "output_type": "stream",
     "text": [
      "training data shape is: (60000, 28, 28), test_images shape is: (10000, 28, 28)\n"
     ]
    }
   ],
   "source": [
    "mnist = tf.keras.datasets.mnist\n",
    "\n",
    "(train_images, train_labels), (test_images, test_labels) = mnist.load_data()\n",
    "\n",
    "print(f\"training data shape is: {train_images.shape}, test_images shape is: {test_images.shape}\")\n",
    "\n"
   ]
  },
  {
   "cell_type": "markdown",
   "id": "64dd61b5",
   "metadata": {},
   "source": [
    "# plotting handwritten numbers from dataset"
   ]
  },
  {
   "cell_type": "code",
   "execution_count": 3,
   "id": "67a79d66",
   "metadata": {},
   "outputs": [
    {
     "data": {
      "image/png": "[encoded data removed]",
      "text/plain": [
       "<Figure size 432x288 with 1 Axes>"
      ]
     },
     "metadata": {
      "needs_background": "light"
     },
     "output_type": "display_data"
    }
   ],
   "source": [
    "\n",
    "def display_image(imag_indx):\n",
    "    image = imag_indx\n",
    "    image = np.array(image, dtype='float')\n",
    "    pixels = image.reshape((28, 28))\n",
    "    plt.imshow(pixels, cmap='gray')\n",
    "    plt.show()\n",
    "\n",
    "display_image(train_images[10])\n"
   ]
  },
  {
   "cell_type": "code",
   "execution_count": 4,
   "id": "398eef46",
   "metadata": {},
   "outputs": [
    {
     "data": {
      "text/plain": [
       "3"
      ]
     },
     "execution_count": 4,
     "metadata": {},
     "output_type": "execute_result"
    }
   ],
   "source": [
    "train_labels[10]"
   ]
  },
  {
   "cell_type": "markdown",
   "id": "bc885547",
   "metadata": {},
   "source": [
    "# Reshaping"
   ]
  },
  {
   "cell_type": "code",
   "execution_count": 5,
   "id": "00556900",
   "metadata": {},
   "outputs": [],
   "source": [
    "dim4 = 4\n",
    "dim7 = 7\n",
    "dim2 = 2"
   ]
  },
  {
   "cell_type": "code",
   "execution_count": 6,
   "id": "985d0714",
   "metadata": {},
   "outputs": [],
   "source": [
    "def grid(imag, row, col):\n",
    "    x, y = imag.shape\n",
    "    \n",
    "    assert x % row == 0, \"can't divide {} by {}\".format(x, row) # assert --> zy if condition bs bytl3 assertion error lw el value be false\n",
    "    assert y % col == 0, \"can't divide {} by {}\".format(y, col)\n",
    "    \n",
    "    ans = (imag.reshape ( x //row, row, -1, col).transpose().reshape(-1, row, col))\n",
    "    \n",
    "    return ans\n"
   ]
  },
  {
   "cell_type": "code",
   "execution_count": 7,
   "id": "e0e2271e",
   "metadata": {},
   "outputs": [
    {
     "name": "stdout",
     "output_type": "stream",
     "text": [
      "(49, 4, 4)\n"
     ]
    },
    {
     "data": {
      "text/plain": [
       "array([[[  0,   0,   0,   0],\n",
       "        [  0,   0,   0,   0],\n",
       "        [  0,   0,   0,   0],\n",
       "        [  0,   0,   0,   0]],\n",
       "\n",
       "       [[  0,   0,   0,   0],\n",
       "        [  0,   0,   0,   0],\n",
       "        [  0,   0,   0,   0],\n",
       "        [  0,   0,   0,   0]],\n",
       "\n",
       "       [[  0,   0,   0,   0],\n",
       "        [  0,   0,   0,   0],\n",
       "        [  0,   0,   0,   0],\n",
       "        [  0,   0,   0,   0]],\n",
       "\n",
       "       [[  0,   0,   0,   0],\n",
       "        [  0,   0,   0,   0],\n",
       "        [  0,   0,   0,   0],\n",
       "        [  0,   0,   0,   0]],\n",
       "\n",
       "       [[  0,   0,   0,   0],\n",
       "        [  0,   0,   0,   0],\n",
       "        [  0,   0,   0,   0],\n",
       "        [  0,   0,   0,   0]],\n",
       "\n",
       "       [[  0,   0,   0,   0],\n",
       "        [  0,   0,   6,  63],\n",
       "        [227, 230,   4,   0],\n",
       "        [  0, 103,   5, 167]],\n",
       "\n",
       "       [[250,   0,   0,   0],\n",
       "        [234,   0,   1, 223],\n",
       "        [  0,   0,   0, 212],\n",
       "        [  0,  64,  45,   0]],\n",
       "\n",
       "       [[  0,   0,  16,  90],\n",
       "        [111,   0,   0,   0],\n",
       "        [  0,   0, 233,   8],\n",
       "        [  0,   0,   0, 144]],\n",
       "\n",
       "       [[  0, 253,   0,   0],\n",
       "        [  0,   0, 204,   0],\n",
       "        [218,   0,   0,   0],\n",
       "        [  0,   0,  27,   0]],\n",
       "\n",
       "       [[  0,   0,   0,   0],\n",
       "        [  0,   0,   0,   0],\n",
       "        [  0,   0,   0,   0],\n",
       "        [  0,   0,   0,   0]],\n",
       "\n",
       "       [[  0,   0,  40,   0],\n",
       "        [  0,   0,   0,   0],\n",
       "        [  0,   0,   0,   0],\n",
       "        [  0,   0,   0,   0]],\n",
       "\n",
       "       [[  0,   0,   0,   0],\n",
       "        [  0,   0,   0,   0],\n",
       "        [  0,   0,   0,   0],\n",
       "        [  0,   0,   0,   0]],\n",
       "\n",
       "       [[  0,   0,   0,   0],\n",
       "        [  0,   0,   0,   0],\n",
       "        [  0,   0,   0,   0],\n",
       "        [  0,   0,   0,   0]],\n",
       "\n",
       "       [[  0,   0,   0,   0],\n",
       "        [  0,   0,   0,   0],\n",
       "        [  0,   0,   0,   0],\n",
       "        [  0,   0,   0,   0]],\n",
       "\n",
       "       [[  0,   0,   0,   0],\n",
       "        [  0,   0,   0,   0],\n",
       "        [  0,   0,   0,   0],\n",
       "        [  0,   0,   0,   0]],\n",
       "\n",
       "       [[  0,   0,   0,   0],\n",
       "        [  0,   0,   0,   0],\n",
       "        [  0,   0,   0,   0],\n",
       "        [  0,   0,   0,   0]],\n",
       "\n",
       "       [[ 45,   0,   0,   0],\n",
       "        [  0,   0,   0,   0],\n",
       "        [  0,   0,   0,   0],\n",
       "        [  0,   0,   0,   0]],\n",
       "\n",
       "       [[  0,   0,   0,   0],\n",
       "        [ 67,   0,   0,   0],\n",
       "        [  0,   0, 121,   0],\n",
       "        [248, 227,   0,   0]],\n",
       "\n",
       "       [[  0, 253,   0,  78],\n",
       "        [104,   0,   0,   0],\n",
       "        [169,   0, 145,  11],\n",
       "        [  0,   0,   0,  18]],\n",
       "\n",
       "       [[ 71, 253,   0,   0],\n",
       "        [  0,   0,   0, 251],\n",
       "        [  0,   0,   0,   0],\n",
       "        [  0,   0, 253,   0]],\n",
       "\n",
       "       [[  0,   0,   0, 250],\n",
       "        [ 31, 149,   0,   0],\n",
       "        [  0,   0,  97, 195],\n",
       "        [ 15,   0,   0,   0]],\n",
       "\n",
       "       [[  0,   0,   0,   0],\n",
       "        [  0,   0,   0,   0],\n",
       "        [  0,   0,   0,   0],\n",
       "        [  0,   0,   0,   0]],\n",
       "\n",
       "       [[  0,   0,   0,   0],\n",
       "        [  0,   0,   0,   0],\n",
       "        [  0,   0,   0,   0],\n",
       "        [  0,   0,   0,   0]],\n",
       "\n",
       "       [[  0,   0,   0,   0],\n",
       "        [  0,   0,   0,   0],\n",
       "        [  0,   0,   0,   0],\n",
       "        [  0,   0,   0,   0]],\n",
       "\n",
       "       [[  0,   0,   0,   0],\n",
       "        [  0,   0,   0,   0],\n",
       "        [  0,   0,   0,   0],\n",
       "        [  0,   0,   0,   0]],\n",
       "\n",
       "       [[  0,   0,   0,   0],\n",
       "        [  0,   0,   0,   0],\n",
       "        [  0,   0,   0,   0],\n",
       "        [  0,   0,   0,   0]],\n",
       "\n",
       "       [[  0,   0,   0,   0],\n",
       "        [  0,   0,   0,   0],\n",
       "        [  0,   0,   0,   0],\n",
       "        [  0,   0,   0,   0]],\n",
       "\n",
       "       [[  0,   0,   0,   0],\n",
       "        [  0,   0,   0,   0],\n",
       "        [  0,   0,   0,   0],\n",
       "        [  0,   0,   0,   0]],\n",
       "\n",
       "       [[  0,   0,   0,  88],\n",
       "        [246,   0, 214,   0],\n",
       "        [  0,   0, 183,  94],\n",
       "        [  0, 232,   0,   0]],\n",
       "\n",
       "       [[  0, 254,   0,   8],\n",
       "        [  0,   0,   0,   4],\n",
       "        [254,   0, 105,   0],\n",
       "        [  0,   0, 247,   0]],\n",
       "\n",
       "       [[241,  12,   0,   0],\n",
       "        [  0, 109,   0, 226],\n",
       "        [  0,   0,   0,   0],\n",
       "        [  4,  14, 249,   0]],\n",
       "\n",
       "       [[  0,   0,  98,   0],\n",
       "        [224, 130,   0,   0],\n",
       "        [  0,   0,  50, 242],\n",
       "        [  0,   0,   0,   0]],\n",
       "\n",
       "       [[  0, 120, 133,   0],\n",
       "        [  0,   0,   0, 254],\n",
       "        [220,  14,   0,   0],\n",
       "        [  0,   0, 126, 254]],\n",
       "\n",
       "       [[  0,   0,   0,   0],\n",
       "        [  0,   0,   0,   0],\n",
       "        [  0,   0,   0,   0],\n",
       "        [  0,   0,   0,   0]],\n",
       "\n",
       "       [[  0,   0,   0,   0],\n",
       "        [  0,   0,   0,   0],\n",
       "        [  0,   0,   0,   0],\n",
       "        [  0,   0,   0,   0]],\n",
       "\n",
       "       [[  0,   0,   0,   0],\n",
       "        [  0,   0,   0,   0],\n",
       "        [  0,   0,   0,   0],\n",
       "        [  0,   0,   0,   0]],\n",
       "\n",
       "       [[  0,   0,   0,   0],\n",
       "        [  0,   0,   0,   0],\n",
       "        [  0,   0,   0,   0],\n",
       "        [  0,   0,   0,   0]],\n",
       "\n",
       "       [[  0,   0,   0,   0],\n",
       "        [  0,   0,   0,   0],\n",
       "        [  0,   0,   0,   0],\n",
       "        [  0,   0,   0,   0]],\n",
       "\n",
       "       [[  0,   0,   0,   0],\n",
       "        [  0,   0,   0,   0],\n",
       "        [  0,   0,   0,   0],\n",
       "        [  0,   0,   0,   0]],\n",
       "\n",
       "       [[  0,   0,   0,   0],\n",
       "        [  0,   0,   0,   0],\n",
       "        [  0,   0,   0,   0],\n",
       "        [  0,   0,   0,   0]],\n",
       "\n",
       "       [[  0,   0,   0,   0],\n",
       "        [  0,   0,   0, 253],\n",
       "        [214,   0, 207,   0],\n",
       "        [  0,   0, 214, 193]],\n",
       "\n",
       "       [[ 52, 106,   0,   0],\n",
       "        [ 18, 124,   0, 206],\n",
       "        [  0,   0,   0, 215],\n",
       "        [ 45,   0, 253,   0]],\n",
       "\n",
       "       [[  0,   0, 133,   0],\n",
       "        [255,   0,   0,   0],\n",
       "        [  0,   0,  24, 189],\n",
       "        [  0,   0,   0,  31]],\n",
       "\n",
       "       [[  0, 197,  53,   0],\n",
       "        [  0,   0, 241,   0],\n",
       "        [254,   0,   0,   0],\n",
       "        [  0,   0, 253,  23]],\n",
       "\n",
       "       [[  0,   0,   0,   0],\n",
       "        [  0, 231,   0,   0],\n",
       "        [  0,   0,   0, 166],\n",
       "        [231,   0,   0,   0]],\n",
       "\n",
       "       [[  0,   0, 253, 139],\n",
       "        [  0,   0,   0,   0],\n",
       "        [  0,   0,   0,   0],\n",
       "        [  0,   0,   0,   0]],\n",
       "\n",
       "       [[  0,   0,   0,   0],\n",
       "        [  0,   0,   0,   0],\n",
       "        [  0,   0,   0,   0],\n",
       "        [  0,   0,   0,   0]],\n",
       "\n",
       "       [[  0,   0,   0,   0],\n",
       "        [  0,   0,   0,   0],\n",
       "        [  0,   0,   0,   0],\n",
       "        [  0,   0,   0,   0]],\n",
       "\n",
       "       [[  0,   0,   0,   0],\n",
       "        [  0,   0,   0,   0],\n",
       "        [  0,   0,   0,   0],\n",
       "        [  0,   0,   0,   0]]], dtype=uint8)"
      ]
     },
     "execution_count": 7,
     "metadata": {},
     "output_type": "execute_result"
    }
   ],
   "source": [
    "print(grid(train_images[10], dim4, dim4).shape)\n",
    "grid(train_images[22], dim4, dim4)"
   ]
  },
  {
   "cell_type": "markdown",
   "id": "c9830d00",
   "metadata": {},
   "source": [
    "# get centroids"
   ]
  },
  {
   "cell_type": "code",
   "execution_count": 8,
   "id": "bf998cd3",
   "metadata": {},
   "outputs": [],
   "source": [
    "def centroidz(img, newdim):    # return feature vector\n",
    "\n",
    "    \n",
    "    centroids = []\n",
    " \n",
    "    for g in grid(img , newdim , newdim ) :\n",
    "        \n",
    "        Xc = 0 \n",
    "        Yc = 0 \n",
    "        sum = 0\n",
    "    \n",
    "        for index, x in np.ndenumerate(g): # np.ndenumerate to get dimensions of each submatrix\n",
    "          sum+= x \n",
    "          Xc += x * index[0] # x --> axis\n",
    "          Yc += x * index[1] # y --> axis\n",
    "        \n",
    "        if sum != 0 :\n",
    "            centroids.append( Xc/ sum )\n",
    "            centroids.append(Yc/ sum )\n",
    "        else :\n",
    "             centroids.append(0)\n",
    "             centroids.append(0)\n",
    "        \n",
    "    \n",
    "    return np.array(centroids)"
   ]
  },
  {
   "cell_type": "markdown",
   "id": "36cf3f75",
   "metadata": {},
   "source": [
    "## Creating Test , Train Features vector"
   ]
  },
  {
   "cell_type": "code",
   "execution_count": 9,
   "id": "be7a3bdf",
   "metadata": {},
   "outputs": [
    {
     "name": "stdout",
     "output_type": "stream",
     "text": [
      "Feature Extraction From Training Data\n"
     ]
    }
   ],
   "source": [
    "print(\"Feature Extraction From Training Data\")\n",
    "train_features4 = [centroidz(img, dim4)  for img in train_images  ]\n",
    "train_features2 = [centroidz(img, dim2)  for img in train_images  ]\n",
    "train_features7 = [centroidz(img, dim7)  for img in train_images  ]"
   ]
  },
  {
   "cell_type": "code",
   "execution_count": 10,
   "id": "d6e883f0",
   "metadata": {},
   "outputs": [
    {
     "name": "stdout",
     "output_type": "stream",
     "text": [
      "(60000, 98)\n"
     ]
    }
   ],
   "source": [
    "train_features2 = np.array(train_features2)\n",
    "train_features4 = np.array(train_features4)\n",
    "train_features7 = np.array(train_features7)\n",
    "print(train_features4.shape)"
   ]
  },
  {
   "cell_type": "code",
   "execution_count": 11,
   "id": "a9737b9d",
   "metadata": {},
   "outputs": [
    {
     "data": {
      "text/plain": [
       "array([[0.        , 0.        , 0.        , 0.        , 0.        ,\n",
       "        2.        , 2.32304527, 2.        , 2.04237288, 2.20847458,\n",
       "        1.45529801, 1.75993377, 1.26571251, 1.76664592, 1.57973422,\n",
       "        1.46594684, 1.05857741, 1.15313808, 1.52989691, 1.96907216,\n",
       "        0.        , 2.        , 0.        , 0.        , 0.        ,\n",
       "        0.        , 0.        , 0.        , 1.        , 2.        ,\n",
       "        2.59529412, 2.        , 1.75909091, 1.95909091, 1.6       ,\n",
       "        2.        , 1.44294547, 1.79201799, 1.98636037, 1.26058866,\n",
       "        1.7283237 , 1.54552023, 2.48692153, 1.46076459, 1.        ,\n",
       "        2.        , 0.        , 0.        , 0.        , 0.        ,\n",
       "        0.        , 0.        , 2.        , 2.        , 2.85245902,\n",
       "        2.07377049, 1.56865128, 1.43742406, 1.52042802, 2.31225681,\n",
       "        1.71428571, 1.48295867, 1.47325581, 0.95232558, 1.03515625,\n",
       "        2.10058594, 1.14528594, 0.38639876, 0.33333333, 2.83333333,\n",
       "        0.        , 0.        , 0.        , 0.        , 0.        ,\n",
       "        0.        , 2.93357934, 2.        , 2.22272727, 2.77727273,\n",
       "        1.42555556, 1.60444444, 1.3262069 , 1.81517241, 1.83148148,\n",
       "        1.57037037, 1.04335793, 1.19833948, 1.4744352 , 1.9940547 ,\n",
       "        0.71821306, 1.18900344, 0.33507853, 1.0052356 , 0.        ,\n",
       "        0.        , 0.        , 0.        ],\n",
       "       [0.        , 0.        , 0.        , 0.        , 0.        ,\n",
       "        0.        , 2.72907154, 1.19178082, 1.17738516, 1.82756184,\n",
       "        0.98846787, 1.13673806, 1.25579399, 1.52961373, 1.56410256,\n",
       "        1.24589086, 1.927897  , 1.80515021, 1.52869117, 1.2005158 ,\n",
       "        0.33333333, 1.66666667, 0.        , 0.        , 0.        ,\n",
       "        0.        , 0.        , 0.        , 0.        , 0.        ,\n",
       "        3.        , 3.        , 1.91072961, 1.36995708, 1.47720365,\n",
       "        1.78824721, 1.60594214, 1.41829554, 1.92307692, 1.04264214,\n",
       "        1.53295455, 1.93636364, 1.07622505, 1.80852995, 0.78253119,\n",
       "        1.11675579, 0.        , 0.        , 0.        , 0.        ,\n",
       "        0.        , 0.        , 2.33333333, 1.33333333, 1.66388889,\n",
       "        0.94444444, 1.52614897, 1.49762282, 1.21297038, 2.02401922,\n",
       "        1.51683348, 1.39308462, 1.22631579, 1.59824561, 0.98998999,\n",
       "        1.81281281, 1.42553191, 2.01595745, 1.82468694, 1.23613596,\n",
       "        0.        , 0.        , 0.        , 0.        , 0.        ,\n",
       "        0.        , 2.98630137, 0.53424658, 1.28099174, 1.79256198,\n",
       "        0.98146341, 1.08195122, 1.43822076, 1.63014827, 1.69661267,\n",
       "        1.23932253, 1.75917768, 1.53891336, 1.41046099, 1.71719858,\n",
       "        0.        , 2.        , 0.        , 0.        , 0.        ,\n",
       "        0.        , 0.        , 0.        ]])"
      ]
     },
     "execution_count": 11,
     "metadata": {},
     "output_type": "execute_result"
    }
   ],
   "source": [
    "train_features4[:2]"
   ]
  },
  {
   "cell_type": "code",
   "execution_count": 12,
   "id": "0ea4fff6",
   "metadata": {},
   "outputs": [
    {
     "name": "stdout",
     "output_type": "stream",
     "text": [
      "Feature Extraction From Test Data\n"
     ]
    }
   ],
   "source": [
    "print(\"Feature Extraction From Test Data\")\n",
    "test_features4 = [centroidz(img, dim4)  for img in test_images  ]\n",
    "test_features7 = [centroidz(img, dim7)  for img in test_images  ]\n",
    "test_features2 = [centroidz(img, dim2)  for img in test_images  ]\n"
   ]
  },
  {
   "cell_type": "code",
   "execution_count": 13,
   "id": "84bc5cd2",
   "metadata": {},
   "outputs": [
    {
     "name": "stdout",
     "output_type": "stream",
     "text": [
      "(10000, 98)\n"
     ]
    }
   ],
   "source": [
    "test_features4 = np.array(test_features4)\n",
    "test_features7 = np.array(test_features7)\n",
    "test_features2 = np.array(test_features2)\n",
    "print(test_features4.shape)"
   ]
  },
  {
   "cell_type": "code",
   "execution_count": 14,
   "id": "0ee68b0d",
   "metadata": {},
   "outputs": [
    {
     "data": {
      "text/plain": [
       "array([[0.        , 0.        , 0.        , 0.        , 0.        ,\n",
       "        0.        , 2.        , 2.        , 2.06493506, 1.68831169,\n",
       "        2.07898449, 1.63751763, 1.40556088, 1.37488015, 1.32769556,\n",
       "        1.52959831, 1.47821351, 1.40958606, 1.92028986, 0.61956522,\n",
       "        0.        , 3.        , 0.        , 0.        , 0.        ,\n",
       "        0.        , 0.        , 0.        , 0.        , 0.        ,\n",
       "        3.        , 2.        , 1.        , 1.        , 2.19230769,\n",
       "        1.74813896, 1.08028455, 1.22560976, 1.84254992, 1.56912442,\n",
       "        1.82067851, 0.58642973, 1.45833333, 1.27083333, 0.14516129,\n",
       "        0.43548387, 0.        , 0.        , 0.        , 0.        ,\n",
       "        0.        , 0.        , 1.46366782, 1.76816609, 2.        ,\n",
       "        2.        , 1.25208681, 1.52587646, 2.04485488, 1.36147757,\n",
       "        1.45184518, 1.03240324, 1.71784777, 1.86351706, 0.95005945,\n",
       "        1.4744352 , 0.        , 0.        , 0.        , 0.        ,\n",
       "        0.        , 0.        , 0.        , 0.        , 0.        ,\n",
       "        0.        , 2.        , 2.        , 1.85618729, 1.6187291 ,\n",
       "        1.98028169, 1.68028169, 1.41655172, 0.94482759, 1.38052095,\n",
       "        1.41223103, 1.81968811, 1.87134503, 1.75443038, 1.00253165,\n",
       "        0.01937984, 2.94186047, 0.        , 0.        , 0.        ,\n",
       "        0.        , 0.        , 0.        ],\n",
       "       [0.        , 0.        , 0.        , 0.        , 0.        ,\n",
       "        0.        , 2.89597315, 1.04026846, 1.36460033, 1.75367047,\n",
       "        1.68066708, 1.25633107, 1.36897959, 1.00653061, 1.62155388,\n",
       "        1.1585213 , 0.53373313, 2.04347826, 1.14364641, 0.69244936,\n",
       "        2.85347985, 1.        , 1.        , 0.        , 0.        ,\n",
       "        1.        , 0.        , 0.        , 0.        , 0.        ,\n",
       "        3.        , 1.09625668, 1.43300654, 1.43300654, 1.61692308,\n",
       "        1.49076923, 1.5965689 , 1.23741007, 1.93283582, 0.82835821,\n",
       "        0.46492659, 1.65579119, 1.988     , 0.506     , 2.        ,\n",
       "        1.        , 0.63243243, 0.68378378, 1.        , 1.        ,\n",
       "        0.        , 0.        , 0.        , 0.        , 0.        ,\n",
       "        0.        , 1.68682259, 1.10952653, 1.63636364, 1.43712575,\n",
       "        1.6897019 , 0.91260163, 0.63480392, 1.76960784, 1.32712766,\n",
       "        0.98138298, 1.96124031, 1.        , 1.13350126, 0.37783375,\n",
       "        1.63333333, 0.68333333, 2.        , 1.        , 0.        ,\n",
       "        0.        , 0.        , 0.        , 2.19379845, 2.40310078,\n",
       "        2.14482759, 1.26708464, 1.3902439 , 0.84552846, 1.5218894 ,\n",
       "        1.10541475, 0.55640535, 1.77533461, 1.39109698, 0.98887122,\n",
       "        2.85347985, 1.        , 1.        , 0.        , 0.        ,\n",
       "        1.        , 0.        , 0.        ]])"
      ]
     },
     "execution_count": 14,
     "metadata": {},
     "output_type": "execute_result"
    }
   ],
   "source": [
    "test_features4[:2]"
   ]
  },
  {
   "cell_type": "markdown",
   "id": "020adaeb",
   "metadata": {},
   "source": [
    "# \"KNN\" Classification algorithm"
   ]
  },
  {
   "cell_type": "code",
   "execution_count": 15,
   "id": "e31ea08c",
   "metadata": {},
   "outputs": [],
   "source": [
    "def KNN(train_features, test_features, train_labels, func, nn):\n",
    "    \n",
    "    knn = KNeighborsClassifier(nn, metric=func)\n",
    "    knn.fit(train_features, train_labels)  # fit train data\n",
    "    prediction = knn.predict(test_features)  # test data\n",
    "    return prediction"
   ]
  },
  {
   "cell_type": "markdown",
   "id": "3490ba47",
   "metadata": {},
   "source": [
    "## knn for 4x4 metrix"
   ]
  },
  {
   "cell_type": "code",
   "execution_count": 16,
   "id": "1d07d9a2",
   "metadata": {},
   "outputs": [],
   "source": [
    "Knn_prediction4_1 = KNN(train_features4, test_features4 , train_labels, 'euclidean',10 )"
   ]
  },
  {
   "cell_type": "code",
   "execution_count": 17,
   "id": "e77d68a9",
   "metadata": {},
   "outputs": [],
   "source": [
    "Knn_prediction4_2 = KNN(train_features4, test_features4 , train_labels, 'euclidean',7 )"
   ]
  },
  {
   "cell_type": "code",
   "execution_count": 18,
   "id": "c9a5f09a",
   "metadata": {},
   "outputs": [],
   "source": [
    "Knn_prediction4_3 = KNN(train_features4, test_features4 , train_labels, 'minkowski',10 )"
   ]
  },
  {
   "cell_type": "code",
   "execution_count": 19,
   "id": "bc728e34",
   "metadata": {},
   "outputs": [],
   "source": [
    "Knn_prediction4_4 = KNN(train_features4, test_features4 , train_labels, 'minkowski',7 )"
   ]
  },
  {
   "cell_type": "code",
   "execution_count": 20,
   "id": "cb8e7cf2",
   "metadata": {},
   "outputs": [],
   "source": [
    "Knn_prediction4_5 = KNN(train_features4, test_features4 , train_labels, 'euclidean',20 )"
   ]
  },
  {
   "cell_type": "code",
   "execution_count": 54,
   "id": "f5c3aaba",
   "metadata": {},
   "outputs": [],
   "source": [
    "Knn_prediction4_6 = KNN(train_features4, test_features4 , train_labels, 'minkowski',20 )"
   ]
  },
  {
   "cell_type": "markdown",
   "id": "150edeea",
   "metadata": {},
   "source": [
    "## knn for 2x2 metrix"
   ]
  },
  {
   "cell_type": "code",
   "execution_count": 22,
   "id": "b3ff18e3",
   "metadata": {},
   "outputs": [],
   "source": [
    "Knn_prediction2_1 = KNN(train_features2, test_features2 , train_labels, 'euclidean',10 )"
   ]
  },
  {
   "cell_type": "code",
   "execution_count": 23,
   "id": "c1c5a36a",
   "metadata": {},
   "outputs": [],
   "source": [
    "Knn_prediction2_2 = KNN(train_features2, test_features2 , train_labels, 'euclidean',7 )"
   ]
  },
  {
   "cell_type": "code",
   "execution_count": 24,
   "id": "4a375d64",
   "metadata": {},
   "outputs": [],
   "source": [
    "Knn_prediction2_3 = KNN(train_features2, test_features2 , train_labels, 'minkowski',10 )"
   ]
  },
  {
   "cell_type": "code",
   "execution_count": 25,
   "id": "391f8e10",
   "metadata": {},
   "outputs": [],
   "source": [
    "Knn_prediction2_4 = KNN(train_features2, test_features2 , train_labels, 'minkowski',7 )"
   ]
  },
  {
   "cell_type": "code",
   "execution_count": 26,
   "id": "c872d0ae",
   "metadata": {},
   "outputs": [],
   "source": [
    "Knn_prediction2_5 = KNN(train_features2, test_features2 , train_labels, 'euclidean',20 )"
   ]
  },
  {
   "cell_type": "code",
   "execution_count": 27,
   "id": "849896a1",
   "metadata": {},
   "outputs": [],
   "source": [
    "Knn_prediction2_6 = KNN(train_features2, test_features2 , train_labels, 'minkowski',20 )"
   ]
  },
  {
   "cell_type": "markdown",
   "id": "405a13df",
   "metadata": {},
   "source": [
    "## knn for 7x7 metrix"
   ]
  },
  {
   "cell_type": "code",
   "execution_count": 28,
   "id": "f121dc4e",
   "metadata": {},
   "outputs": [],
   "source": [
    "Knn_prediction7_1 = KNN(train_features7, test_features7 , train_labels, 'euclidean',10 )"
   ]
  },
  {
   "cell_type": "code",
   "execution_count": 29,
   "id": "341e4122",
   "metadata": {},
   "outputs": [],
   "source": [
    "Knn_prediction7_2 = KNN(train_features7, test_features7 , train_labels, 'euclidean',7 )"
   ]
  },
  {
   "cell_type": "code",
   "execution_count": 30,
   "id": "6b742b9d",
   "metadata": {},
   "outputs": [],
   "source": [
    "Knn_prediction7_3 = KNN(train_features7, test_features7 , train_labels, 'minkowski',10 )"
   ]
  },
  {
   "cell_type": "code",
   "execution_count": 31,
   "id": "2802f27f",
   "metadata": {},
   "outputs": [],
   "source": [
    "Knn_prediction7_4 = KNN(train_features7, test_features7 , train_labels, 'minkowski',7 )"
   ]
  },
  {
   "cell_type": "code",
   "execution_count": 32,
   "id": "999b9329",
   "metadata": {},
   "outputs": [],
   "source": [
    "Knn_prediction7_5 = KNN(train_features7, test_features7 , train_labels, 'euclidean',20 )"
   ]
  },
  {
   "cell_type": "code",
   "execution_count": 33,
   "id": "02101f24",
   "metadata": {},
   "outputs": [],
   "source": [
    "Knn_prediction7_6 = KNN(train_features7, test_features7 , train_labels, 'minkowski',20 )"
   ]
  },
  {
   "cell_type": "markdown",
   "id": "8332191b",
   "metadata": {},
   "source": [
    "# Accuracy "
   ]
  },
  {
   "cell_type": "markdown",
   "id": "d179cc32",
   "metadata": {},
   "source": [
    "## accuray for 4x4 metrix"
   ]
  },
  {
   "cell_type": "code",
   "execution_count": 34,
   "id": "7b54f638",
   "metadata": {},
   "outputs": [
    {
     "name": "stdout",
     "output_type": "stream",
     "text": [
      "Accuracy Score = 80.57 %\n"
     ]
    }
   ],
   "source": [
    "print(\"Accuracy Score =\", accuracy_score(test_labels, Knn_prediction4_1) * 100, \"%\")"
   ]
  },
  {
   "cell_type": "code",
   "execution_count": 35,
   "id": "c1e0dd34",
   "metadata": {},
   "outputs": [
    {
     "name": "stdout",
     "output_type": "stream",
     "text": [
      "Accuracy Score2 = 81.06 %\n"
     ]
    }
   ],
   "source": [
    "print(\"Accuracy Score2 =\", accuracy_score(test_labels, Knn_prediction4_2) * 100, \"%\")"
   ]
  },
  {
   "cell_type": "code",
   "execution_count": 36,
   "id": "9859a0ed",
   "metadata": {},
   "outputs": [
    {
     "name": "stdout",
     "output_type": "stream",
     "text": [
      "Accuracy Score3 = 80.57 %\n"
     ]
    }
   ],
   "source": [
    "print(\"Accuracy Score3 =\", accuracy_score(test_labels, Knn_prediction4_3) * 100, \"%\")"
   ]
  },
  {
   "cell_type": "code",
   "execution_count": 37,
   "id": "0c78c65d",
   "metadata": {
    "scrolled": true
   },
   "outputs": [
    {
     "name": "stdout",
     "output_type": "stream",
     "text": [
      "Accuracy Score3 = 81.06 %\n"
     ]
    }
   ],
   "source": [
    "print(\"Accuracy Score3 =\", accuracy_score(test_labels, Knn_prediction4_4) * 100, \"%\")"
   ]
  },
  {
   "cell_type": "code",
   "execution_count": 38,
   "id": "a76bb522",
   "metadata": {},
   "outputs": [
    {
     "name": "stdout",
     "output_type": "stream",
     "text": [
      "Accuracy Score4 = 78.59 %\n"
     ]
    }
   ],
   "source": [
    "print(\"Accuracy Score4 =\", accuracy_score(test_labels, Knn_prediction4_5) * 100, \"%\")"
   ]
  },
  {
   "cell_type": "code",
   "execution_count": 55,
   "id": "119efe88",
   "metadata": {},
   "outputs": [
    {
     "name": "stdout",
     "output_type": "stream",
     "text": [
      "Accuracy Score5 = 78.59 %\n"
     ]
    }
   ],
   "source": [
    "print(\"Accuracy Score5 =\", accuracy_score(test_labels, Knn_prediction4_6) * 100, \"%\")"
   ]
  },
  {
   "cell_type": "markdown",
   "id": "20474a20",
   "metadata": {},
   "source": [
    "## accuracy for 2x2 metrix"
   ]
  },
  {
   "cell_type": "code",
   "execution_count": 40,
   "id": "69592752",
   "metadata": {},
   "outputs": [
    {
     "name": "stdout",
     "output_type": "stream",
     "text": [
      "Accuracy Score1 = 92.72 %\n"
     ]
    }
   ],
   "source": [
    "print(\"Accuracy Score1 =\", accuracy_score(test_labels, Knn_prediction2_1) * 100, \"%\")"
   ]
  },
  {
   "cell_type": "code",
   "execution_count": 41,
   "id": "70165aed",
   "metadata": {},
   "outputs": [
    {
     "name": "stdout",
     "output_type": "stream",
     "text": [
      "Accuracy Score2 = 92.73 %\n"
     ]
    }
   ],
   "source": [
    "print(\"Accuracy Score2 =\", accuracy_score(test_labels, Knn_prediction2_2) * 100, \"%\")"
   ]
  },
  {
   "cell_type": "code",
   "execution_count": 42,
   "id": "e4d3d511",
   "metadata": {},
   "outputs": [
    {
     "name": "stdout",
     "output_type": "stream",
     "text": [
      "Accuracy Score3 = 92.72 %\n"
     ]
    }
   ],
   "source": [
    "print(\"Accuracy Score3 =\", accuracy_score(test_labels, Knn_prediction2_3) * 100, \"%\")"
   ]
  },
  {
   "cell_type": "code",
   "execution_count": 43,
   "id": "b35a39c9",
   "metadata": {},
   "outputs": [
    {
     "name": "stdout",
     "output_type": "stream",
     "text": [
      "Accuracy Score4 = 92.73 %\n"
     ]
    }
   ],
   "source": [
    "print(\"Accuracy Score4 =\", accuracy_score(test_labels, Knn_prediction2_4) * 100, \"%\")"
   ]
  },
  {
   "cell_type": "code",
   "execution_count": 44,
   "id": "f6cacbd4",
   "metadata": {},
   "outputs": [
    {
     "name": "stdout",
     "output_type": "stream",
     "text": [
      "Accuracy Score5 = 91.97999999999999 %\n"
     ]
    }
   ],
   "source": [
    "print(\"Accuracy Score5 =\", accuracy_score(test_labels, Knn_prediction2_5) * 100, \"%\")"
   ]
  },
  {
   "cell_type": "code",
   "execution_count": 45,
   "id": "63f52cc2",
   "metadata": {},
   "outputs": [
    {
     "name": "stdout",
     "output_type": "stream",
     "text": [
      "Accuracy Score6 = 91.97999999999999 %\n"
     ]
    }
   ],
   "source": [
    "print(\"Accuracy Score6 =\", accuracy_score(test_labels, Knn_prediction2_6) * 100, \"%\")"
   ]
  },
  {
   "cell_type": "markdown",
   "id": "9ef66336",
   "metadata": {},
   "source": [
    "## accuracy for 7x7 metrix"
   ]
  },
  {
   "cell_type": "code",
   "execution_count": 46,
   "id": "0247f82a",
   "metadata": {},
   "outputs": [
    {
     "name": "stdout",
     "output_type": "stream",
     "text": [
      "Accuracy Score1 = 75.03999999999999 %\n"
     ]
    }
   ],
   "source": [
    "print(\"Accuracy Score1 =\", accuracy_score(test_labels, Knn_prediction7_1) * 100, \"%\")"
   ]
  },
  {
   "cell_type": "code",
   "execution_count": 47,
   "id": "36b3df23",
   "metadata": {},
   "outputs": [
    {
     "name": "stdout",
     "output_type": "stream",
     "text": [
      "Accuracy Score2 = 75.35 %\n"
     ]
    }
   ],
   "source": [
    "print(\"Accuracy Score2 =\", accuracy_score(test_labels, Knn_prediction7_2) * 100, \"%\")"
   ]
  },
  {
   "cell_type": "code",
   "execution_count": 48,
   "id": "c023d18d",
   "metadata": {},
   "outputs": [
    {
     "name": "stdout",
     "output_type": "stream",
     "text": [
      "Accuracy Score3 = 75.03999999999999 %\n"
     ]
    }
   ],
   "source": [
    "print(\"Accuracy Score3 =\", accuracy_score(test_labels, Knn_prediction7_3) * 100, \"%\")"
   ]
  },
  {
   "cell_type": "code",
   "execution_count": 49,
   "id": "94102139",
   "metadata": {},
   "outputs": [
    {
     "name": "stdout",
     "output_type": "stream",
     "text": [
      "Accuracy Score4 = 75.35 %\n"
     ]
    }
   ],
   "source": [
    "print(\"Accuracy Score4 =\", accuracy_score(test_labels, Knn_prediction7_4) * 100, \"%\")"
   ]
  },
  {
   "cell_type": "code",
   "execution_count": 50,
   "id": "52340f2f",
   "metadata": {},
   "outputs": [
    {
     "name": "stdout",
     "output_type": "stream",
     "text": [
      "Accuracy Score5 = 73.61999999999999 %\n"
     ]
    }
   ],
   "source": [
    "print(\"Accuracy Score5 =\", accuracy_score(test_labels, Knn_prediction7_5) * 100, \"%\")"
   ]
  },
  {
   "cell_type": "code",
   "execution_count": 51,
   "id": "2ecad286",
   "metadata": {},
   "outputs": [
    {
     "name": "stdout",
     "output_type": "stream",
     "text": [
      "Accuracy Score6 = 73.61999999999999 %\n"
     ]
    }
   ],
   "source": [
    "print(\"Accuracy Score6 =\", accuracy_score(test_labels, Knn_prediction7_6) * 100, \"%\")"
   ]
  }
 ],
 "metadata": {
  "kernelspec": {
   "display_name": "Python 3 (ipykernel)",
   "language": "python",
   "name": "python3"
  },
  "language_info": {
   "codemirror_mode": {
    "name": "ipython",
    "version": 3
   },
   "file_extension": ".py",
   "mimetype": "text/x-python",
   "name": "python",
   "nbconvert_exporter": "python",
   "pygments_lexer": "ipython3",
   "version": "3.7.11"
  }
 },
 "nbformat": 4,
 "nbformat_minor": 5
}
