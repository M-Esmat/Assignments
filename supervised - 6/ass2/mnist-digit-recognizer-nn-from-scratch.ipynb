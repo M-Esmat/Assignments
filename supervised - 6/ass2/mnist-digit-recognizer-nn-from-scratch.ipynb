{
 "cells": [
  {
   "cell_type": "code",
   "execution_count": 1,
   "id": "e9efb45a",
   "metadata": {
    "_cell_guid": "b1076dfc-b9ad-4769-8c92-a6c4dae69d19",
    "_uuid": "8f2839f25d086af736a60e9eeb907d3b93b6e0e5",
    "execution": {
     "iopub.execute_input": "2022-06-02T11:40:11.056959Z",
     "iopub.status.busy": "2022-06-02T11:40:11.056483Z",
     "iopub.status.idle": "2022-06-02T11:40:11.067522Z",
     "shell.execute_reply": "2022-06-02T11:40:11.066381Z"
    },
    "papermill": {
     "duration": 0.025643,
     "end_time": "2022-06-02T11:40:11.070066",
     "exception": false,
     "start_time": "2022-06-02T11:40:11.044423",
     "status": "completed"
    },
    "tags": []
   },
   "outputs": [],
   "source": [
    "\n",
    "\n",
    "import numpy as np # linear algebra\n",
    "import pandas as pd # data processing, CSV file I/O (e.g. pd.read_csv)\n",
    "from matplotlib import pyplot as plt\n"
   ]
  },
  {
   "cell_type": "code",
   "execution_count": 2,
   "id": "38005cdb",
   "metadata": {
    "execution": {
     "iopub.execute_input": "2022-06-02T11:40:11.086447Z",
     "iopub.status.busy": "2022-06-02T11:40:11.086004Z",
     "iopub.status.idle": "2022-06-02T11:40:17.209834Z",
     "shell.execute_reply": "2022-06-02T11:40:17.209106Z"
    },
    "papermill": {
     "duration": 6.134384,
     "end_time": "2022-06-02T11:40:17.212029",
     "exception": false,
     "start_time": "2022-06-02T11:40:11.077645",
     "status": "completed"
    },
    "tags": []
   },
   "outputs": [],
   "source": [
    "data = pd.read_csv('../input/digit-recognizer/train.csv')\n",
    "test_data = pd.read_csv('../input/digit-recognizer/test.csv')"
   ]
  },
  {
   "cell_type": "code",
   "execution_count": 3,
   "id": "b0d50278",
   "metadata": {
    "execution": {
     "iopub.execute_input": "2022-06-02T11:40:17.227748Z",
     "iopub.status.busy": "2022-06-02T11:40:17.227374Z",
     "iopub.status.idle": "2022-06-02T11:40:17.253814Z",
     "shell.execute_reply": "2022-06-02T11:40:17.252885Z"
    },
    "papermill": {
     "duration": 0.037309,
     "end_time": "2022-06-02T11:40:17.256269",
     "exception": false,
     "start_time": "2022-06-02T11:40:17.218960",
     "status": "completed"
    },
    "tags": []
   },
   "outputs": [
    {
     "data": {
      "text/html": [
       "<div>\n",
       "<style scoped>\n",
       "    .dataframe tbody tr th:only-of-type {\n",
       "        vertical-align: middle;\n",
       "    }\n",
       "\n",
       "    .dataframe tbody tr th {\n",
       "        vertical-align: top;\n",
       "    }\n",
       "\n",
       "    .dataframe thead th {\n",
       "        text-align: right;\n",
       "    }\n",
       "</style>\n",
       "<table border=\"1\" class=\"dataframe\">\n",
       "  <thead>\n",
       "    <tr style=\"text-align: right;\">\n",
       "      <th></th>\n",
       "      <th>label</th>\n",
       "      <th>pixel0</th>\n",
       "      <th>pixel1</th>\n",
       "      <th>pixel2</th>\n",
       "      <th>pixel3</th>\n",
       "      <th>pixel4</th>\n",
       "      <th>pixel5</th>\n",
       "      <th>pixel6</th>\n",
       "      <th>pixel7</th>\n",
       "      <th>pixel8</th>\n",
       "      <th>...</th>\n",
       "      <th>pixel774</th>\n",
       "      <th>pixel775</th>\n",
       "      <th>pixel776</th>\n",
       "      <th>pixel777</th>\n",
       "      <th>pixel778</th>\n",
       "      <th>pixel779</th>\n",
       "      <th>pixel780</th>\n",
       "      <th>pixel781</th>\n",
       "      <th>pixel782</th>\n",
       "      <th>pixel783</th>\n",
       "    </tr>\n",
       "  </thead>\n",
       "  <tbody>\n",
       "    <tr>\n",
       "      <th>0</th>\n",
       "      <td>1</td>\n",
       "      <td>0</td>\n",
       "      <td>0</td>\n",
       "      <td>0</td>\n",
       "      <td>0</td>\n",
       "      <td>0</td>\n",
       "      <td>0</td>\n",
       "      <td>0</td>\n",
       "      <td>0</td>\n",
       "      <td>0</td>\n",
       "      <td>...</td>\n",
       "      <td>0</td>\n",
       "      <td>0</td>\n",
       "      <td>0</td>\n",
       "      <td>0</td>\n",
       "      <td>0</td>\n",
       "      <td>0</td>\n",
       "      <td>0</td>\n",
       "      <td>0</td>\n",
       "      <td>0</td>\n",
       "      <td>0</td>\n",
       "    </tr>\n",
       "    <tr>\n",
       "      <th>1</th>\n",
       "      <td>0</td>\n",
       "      <td>0</td>\n",
       "      <td>0</td>\n",
       "      <td>0</td>\n",
       "      <td>0</td>\n",
       "      <td>0</td>\n",
       "      <td>0</td>\n",
       "      <td>0</td>\n",
       "      <td>0</td>\n",
       "      <td>0</td>\n",
       "      <td>...</td>\n",
       "      <td>0</td>\n",
       "      <td>0</td>\n",
       "      <td>0</td>\n",
       "      <td>0</td>\n",
       "      <td>0</td>\n",
       "      <td>0</td>\n",
       "      <td>0</td>\n",
       "      <td>0</td>\n",
       "      <td>0</td>\n",
       "      <td>0</td>\n",
       "    </tr>\n",
       "    <tr>\n",
       "      <th>2</th>\n",
       "      <td>1</td>\n",
       "      <td>0</td>\n",
       "      <td>0</td>\n",
       "      <td>0</td>\n",
       "      <td>0</td>\n",
       "      <td>0</td>\n",
       "      <td>0</td>\n",
       "      <td>0</td>\n",
       "      <td>0</td>\n",
       "      <td>0</td>\n",
       "      <td>...</td>\n",
       "      <td>0</td>\n",
       "      <td>0</td>\n",
       "      <td>0</td>\n",
       "      <td>0</td>\n",
       "      <td>0</td>\n",
       "      <td>0</td>\n",
       "      <td>0</td>\n",
       "      <td>0</td>\n",
       "      <td>0</td>\n",
       "      <td>0</td>\n",
       "    </tr>\n",
       "    <tr>\n",
       "      <th>3</th>\n",
       "      <td>4</td>\n",
       "      <td>0</td>\n",
       "      <td>0</td>\n",
       "      <td>0</td>\n",
       "      <td>0</td>\n",
       "      <td>0</td>\n",
       "      <td>0</td>\n",
       "      <td>0</td>\n",
       "      <td>0</td>\n",
       "      <td>0</td>\n",
       "      <td>...</td>\n",
       "      <td>0</td>\n",
       "      <td>0</td>\n",
       "      <td>0</td>\n",
       "      <td>0</td>\n",
       "      <td>0</td>\n",
       "      <td>0</td>\n",
       "      <td>0</td>\n",
       "      <td>0</td>\n",
       "      <td>0</td>\n",
       "      <td>0</td>\n",
       "    </tr>\n",
       "    <tr>\n",
       "      <th>4</th>\n",
       "      <td>0</td>\n",
       "      <td>0</td>\n",
       "      <td>0</td>\n",
       "      <td>0</td>\n",
       "      <td>0</td>\n",
       "      <td>0</td>\n",
       "      <td>0</td>\n",
       "      <td>0</td>\n",
       "      <td>0</td>\n",
       "      <td>0</td>\n",
       "      <td>...</td>\n",
       "      <td>0</td>\n",
       "      <td>0</td>\n",
       "      <td>0</td>\n",
       "      <td>0</td>\n",
       "      <td>0</td>\n",
       "      <td>0</td>\n",
       "      <td>0</td>\n",
       "      <td>0</td>\n",
       "      <td>0</td>\n",
       "      <td>0</td>\n",
       "    </tr>\n",
       "  </tbody>\n",
       "</table>\n",
       "<p>5 rows × 785 columns</p>\n",
       "</div>"
      ],
      "text/plain": [
       "   label  pixel0  pixel1  pixel2  pixel3  pixel4  pixel5  pixel6  pixel7  \\\n",
       "0      1       0       0       0       0       0       0       0       0   \n",
       "1      0       0       0       0       0       0       0       0       0   \n",
       "2      1       0       0       0       0       0       0       0       0   \n",
       "3      4       0       0       0       0       0       0       0       0   \n",
       "4      0       0       0       0       0       0       0       0       0   \n",
       "\n",
       "   pixel8  ...  pixel774  pixel775  pixel776  pixel777  pixel778  pixel779  \\\n",
       "0       0  ...         0         0         0         0         0         0   \n",
       "1       0  ...         0         0         0         0         0         0   \n",
       "2       0  ...         0         0         0         0         0         0   \n",
       "3       0  ...         0         0         0         0         0         0   \n",
       "4       0  ...         0         0         0         0         0         0   \n",
       "\n",
       "   pixel780  pixel781  pixel782  pixel783  \n",
       "0         0         0         0         0  \n",
       "1         0         0         0         0  \n",
       "2         0         0         0         0  \n",
       "3         0         0         0         0  \n",
       "4         0         0         0         0  \n",
       "\n",
       "[5 rows x 785 columns]"
      ]
     },
     "execution_count": 3,
     "metadata": {},
     "output_type": "execute_result"
    }
   ],
   "source": [
    "data.head()"
   ]
  },
  {
   "cell_type": "code",
   "execution_count": 4,
   "id": "f1987868",
   "metadata": {
    "execution": {
     "iopub.execute_input": "2022-06-02T11:40:17.272946Z",
     "iopub.status.busy": "2022-06-02T11:40:17.272510Z",
     "iopub.status.idle": "2022-06-02T11:40:17.960418Z",
     "shell.execute_reply": "2022-06-02T11:40:17.959606Z"
    },
    "papermill": {
     "duration": 0.699007,
     "end_time": "2022-06-02T11:40:17.962886",
     "exception": false,
     "start_time": "2022-06-02T11:40:17.263879",
     "status": "completed"
    },
    "tags": []
   },
   "outputs": [],
   "source": [
    "data = np.array(data)\n",
    "m, n = data.shape\n",
    "np.random.shuffle(data)\n",
    "\n",
    "validation_data = data[0: 1000].T\n",
    "y_validation = validation_data[0]\n",
    "x_validation = validation_data[0: 1000]\n",
    "\n",
    "train_data = data[1000: m].T\n",
    "Y_train = train_data[0]\n",
    "x_train = train_data[1:n]\n",
    "x_col, x_row = x_train.shape\n"
   ]
  },
  {
   "cell_type": "code",
   "execution_count": 5,
   "id": "03c468cc",
   "metadata": {
    "execution": {
     "iopub.execute_input": "2022-06-02T11:40:17.979555Z",
     "iopub.status.busy": "2022-06-02T11:40:17.979158Z",
     "iopub.status.idle": "2022-06-02T11:40:17.986239Z",
     "shell.execute_reply": "2022-06-02T11:40:17.985575Z"
    },
    "papermill": {
     "duration": 0.018761,
     "end_time": "2022-06-02T11:40:17.989291",
     "exception": false,
     "start_time": "2022-06-02T11:40:17.970530",
     "status": "completed"
    },
    "tags": []
   },
   "outputs": [
    {
     "name": "stdout",
     "output_type": "stream",
     "text": [
      "784 41000\n",
      "(784,)\n",
      "(784, 41000)\n"
     ]
    },
    {
     "data": {
      "text/plain": [
       "(784, 41000)"
      ]
     },
     "execution_count": 5,
     "metadata": {},
     "output_type": "execute_result"
    }
   ],
   "source": [
    "print(x_col, x_row)\n",
    "print(x_train[:,0].shape) # first column with 784 pixels\n",
    "print(x_train.shape)\n",
    "x_train.shape"
   ]
  },
  {
   "cell_type": "code",
   "execution_count": 6,
   "id": "f8e07972",
   "metadata": {
    "execution": {
     "iopub.execute_input": "2022-06-02T11:40:18.006893Z",
     "iopub.status.busy": "2022-06-02T11:40:18.006487Z",
     "iopub.status.idle": "2022-06-02T11:40:18.013658Z",
     "shell.execute_reply": "2022-06-02T11:40:18.012544Z"
    },
    "papermill": {
     "duration": 0.019026,
     "end_time": "2022-06-02T11:40:18.015940",
     "exception": false,
     "start_time": "2022-06-02T11:40:17.996914",
     "status": "completed"
    },
    "tags": []
   },
   "outputs": [
    {
     "data": {
      "text/plain": [
       "array([[4, 8, 0, ..., 7, 4, 1],\n",
       "       [0, 0, 0, ..., 0, 0, 0],\n",
       "       [0, 0, 0, ..., 0, 0, 0],\n",
       "       [0, 0, 0, ..., 0, 0, 0],\n",
       "       [0, 0, 0, ..., 0, 0, 0]])"
      ]
     },
     "execution_count": 6,
     "metadata": {},
     "output_type": "execute_result"
    }
   ],
   "source": [
    "train_data[0:5]"
   ]
  },
  {
   "cell_type": "code",
   "execution_count": 7,
   "id": "beb67ade",
   "metadata": {
    "execution": {
     "iopub.execute_input": "2022-06-02T11:40:18.034306Z",
     "iopub.status.busy": "2022-06-02T11:40:18.033648Z",
     "iopub.status.idle": "2022-06-02T11:40:18.040218Z",
     "shell.execute_reply": "2022-06-02T11:40:18.039150Z"
    },
    "papermill": {
     "duration": 0.018376,
     "end_time": "2022-06-02T11:40:18.042808",
     "exception": false,
     "start_time": "2022-06-02T11:40:18.024432",
     "status": "completed"
    },
    "tags": []
   },
   "outputs": [],
   "source": [
    "def initialize_parameters(inp_dim, hidden_dim, out_dim):\n",
    "    w1 = np.random.rand(hidden_dim, inp_dim)\n",
    "    b1 = np.random.rand(hidden_dim, 1)\n",
    "    \n",
    "    w2 = np.random.rand(out_dim, hidden_dim)\n",
    "    b2 = np.random.rand(out_dim, 1)\n",
    "    return w1, b1, w2, b2"
   ]
  },
  {
   "cell_type": "code",
   "execution_count": 8,
   "id": "d5a01547",
   "metadata": {
    "execution": {
     "iopub.execute_input": "2022-06-02T11:40:18.060453Z",
     "iopub.status.busy": "2022-06-02T11:40:18.059844Z",
     "iopub.status.idle": "2022-06-02T11:40:18.065100Z",
     "shell.execute_reply": "2022-06-02T11:40:18.064365Z"
    },
    "papermill": {
     "duration": 0.016315,
     "end_time": "2022-06-02T11:40:18.067077",
     "exception": false,
     "start_time": "2022-06-02T11:40:18.050762",
     "status": "completed"
    },
    "tags": []
   },
   "outputs": [],
   "source": [
    "def Relu(x, deriv = False):\n",
    "    if (deriv == True):\n",
    "        return x > 0\n",
    "    else:\n",
    "        return np.maximum(0, x)"
   ]
  },
  {
   "cell_type": "code",
   "execution_count": 9,
   "id": "e22816b6",
   "metadata": {
    "execution": {
     "iopub.execute_input": "2022-06-02T11:40:18.084059Z",
     "iopub.status.busy": "2022-06-02T11:40:18.083446Z",
     "iopub.status.idle": "2022-06-02T11:40:18.088196Z",
     "shell.execute_reply": "2022-06-02T11:40:18.087462Z"
    },
    "papermill": {
     "duration": 0.015602,
     "end_time": "2022-06-02T11:40:18.090200",
     "exception": false,
     "start_time": "2022-06-02T11:40:18.074598",
     "status": "completed"
    },
    "tags": []
   },
   "outputs": [],
   "source": [
    "def Softmax(x):\n",
    "    return np.exp(x)/ np.sum(np.exp(x))"
   ]
  },
  {
   "cell_type": "code",
   "execution_count": 10,
   "id": "f4d436c3",
   "metadata": {
    "execution": {
     "iopub.execute_input": "2022-06-02T11:40:18.108086Z",
     "iopub.status.busy": "2022-06-02T11:40:18.107406Z",
     "iopub.status.idle": "2022-06-02T11:40:18.113662Z",
     "shell.execute_reply": "2022-06-02T11:40:18.112606Z"
    },
    "papermill": {
     "duration": 0.018149,
     "end_time": "2022-06-02T11:40:18.116022",
     "exception": false,
     "start_time": "2022-06-02T11:40:18.097873",
     "status": "completed"
    },
    "tags": []
   },
   "outputs": [],
   "source": [
    "def forward_propagation(x, w1, b1, w2, b2): # x is input layer\n",
    "    net1 = w1.dot(x) + b1\n",
    "    out1 = Relu(net1) # output of first hidden layer\n",
    "\n",
    "    net2 = w2.dot(out1) + b2\n",
    "    out2 = Softmax(net2) # output at output layer\n",
    "    return net1, out1, net2, out2"
   ]
  },
  {
   "cell_type": "code",
   "execution_count": 11,
   "id": "ad706120",
   "metadata": {
    "execution": {
     "iopub.execute_input": "2022-06-02T11:40:18.133138Z",
     "iopub.status.busy": "2022-06-02T11:40:18.132709Z",
     "iopub.status.idle": "2022-06-02T11:40:18.137994Z",
     "shell.execute_reply": "2022-06-02T11:40:18.136907Z"
    },
    "papermill": {
     "duration": 0.016584,
     "end_time": "2022-06-02T11:40:18.140266",
     "exception": false,
     "start_time": "2022-06-02T11:40:18.123682",
     "status": "completed"
    },
    "tags": []
   },
   "outputs": [],
   "source": [
    "def One_hot(x):\n",
    "    one_hot_x = np.zeros((x.size, x.max() + 1)) # dummy matrix\n",
    "    one_hot_x[np.arange(x.size), x] = 1 # it iterates on the dummy matrix and assign 1 to the right label only\n",
    "    return one_hot_x.T"
   ]
  },
  {
   "cell_type": "code",
   "execution_count": 12,
   "id": "966b315b",
   "metadata": {
    "execution": {
     "iopub.execute_input": "2022-06-02T11:40:18.158503Z",
     "iopub.status.busy": "2022-06-02T11:40:18.157898Z",
     "iopub.status.idle": "2022-06-02T11:40:18.164979Z",
     "shell.execute_reply": "2022-06-02T11:40:18.164224Z"
    },
    "papermill": {
     "duration": 0.018699,
     "end_time": "2022-06-02T11:40:18.167010",
     "exception": false,
     "start_time": "2022-06-02T11:40:18.148311",
     "status": "completed"
    },
    "tags": []
   },
   "outputs": [],
   "source": [
    "def backward_propagation(net1, out1, net2, out2, W2, X, Y):\n",
    "    s = Y.size\n",
    "    y = One_hot(Y)\n",
    "    \n",
    "    # for output layer\n",
    "    out_error = out2 - y\n",
    "    delta_w2 = 1 / s * out_error.dot(out1.T)\n",
    "    delta_b2 = 1 / s * np.sum(out_error)\n",
    "    \n",
    "    # for hidden layer\n",
    "    hidden_layer_error = W2.T.dot(out_error) * Relu(net1, True)\n",
    "    delta_w1 = 1 / s * hidden_layer_error.dot(X.T)\n",
    "    delta_b1 = 1 / s * np.sum(hidden_layer_error)\n",
    "    return delta_w1, delta_b1, delta_w2, delta_b2\n",
    "    \n",
    "    "
   ]
  },
  {
   "cell_type": "code",
   "execution_count": 13,
   "id": "34afb2ad",
   "metadata": {
    "execution": {
     "iopub.execute_input": "2022-06-02T11:40:18.184135Z",
     "iopub.status.busy": "2022-06-02T11:40:18.183706Z",
     "iopub.status.idle": "2022-06-02T11:40:18.189078Z",
     "shell.execute_reply": "2022-06-02T11:40:18.188108Z"
    },
    "papermill": {
     "duration": 0.016664,
     "end_time": "2022-06-02T11:40:18.191128",
     "exception": false,
     "start_time": "2022-06-02T11:40:18.174464",
     "status": "completed"
    },
    "tags": []
   },
   "outputs": [],
   "source": [
    "def update_parameters(W1, b1, W2, b2, d_w1, d_b1, d_w2, d_b2, alpha):\n",
    "    w1 = W1 - alpha * d_w1\n",
    "    b1 = b1 - alpha * d_b1\n",
    "    w2 = W2 - alpha * d_w2\n",
    "    b2 = b2 - alpha * d_b2\n",
    "    return w1, b1, w2, b2"
   ]
  },
  {
   "cell_type": "code",
   "execution_count": 14,
   "id": "647f8ffb",
   "metadata": {
    "execution": {
     "iopub.execute_input": "2022-06-02T11:40:18.209343Z",
     "iopub.status.busy": "2022-06-02T11:40:18.208235Z",
     "iopub.status.idle": "2022-06-02T11:40:18.213307Z",
     "shell.execute_reply": "2022-06-02T11:40:18.212221Z"
    },
    "papermill": {
     "duration": 0.016499,
     "end_time": "2022-06-02T11:40:18.215420",
     "exception": false,
     "start_time": "2022-06-02T11:40:18.198921",
     "status": "completed"
    },
    "tags": []
   },
   "outputs": [],
   "source": [
    "def get_predictions(A2):\n",
    "    return np.argmax(A2, 0)"
   ]
  },
  {
   "cell_type": "code",
   "execution_count": 15,
   "id": "8eabab5e",
   "metadata": {
    "execution": {
     "iopub.execute_input": "2022-06-02T11:40:18.232883Z",
     "iopub.status.busy": "2022-06-02T11:40:18.232483Z",
     "iopub.status.idle": "2022-06-02T11:40:18.237060Z",
     "shell.execute_reply": "2022-06-02T11:40:18.236283Z"
    },
    "papermill": {
     "duration": 0.015413,
     "end_time": "2022-06-02T11:40:18.238853",
     "exception": false,
     "start_time": "2022-06-02T11:40:18.223440",
     "status": "completed"
    },
    "tags": []
   },
   "outputs": [],
   "source": [
    "def get_accuracy(predictions, Y):\n",
    "    print(predictions, Y)\n",
    "    return np.sum(predictions == Y) / Y.size"
   ]
  },
  {
   "cell_type": "code",
   "execution_count": 16,
   "id": "07e4d181",
   "metadata": {
    "execution": {
     "iopub.execute_input": "2022-06-02T11:40:18.256476Z",
     "iopub.status.busy": "2022-06-02T11:40:18.255784Z",
     "iopub.status.idle": "2022-06-02T11:40:18.262752Z",
     "shell.execute_reply": "2022-06-02T11:40:18.262011Z"
    },
    "papermill": {
     "duration": 0.018418,
     "end_time": "2022-06-02T11:40:18.264991",
     "exception": false,
     "start_time": "2022-06-02T11:40:18.246573",
     "status": "completed"
    },
    "tags": []
   },
   "outputs": [],
   "source": [
    "def gradient_descent(X, Y, alpha, iterations):\n",
    "    w1, b1, w2, b2 = initialize_parameters(784, 10, 10)\n",
    "    for i in range(iterations):\n",
    "        net1, out1, net2, out2 = forward_propagation(X, w1, b1, w2, b2)\n",
    "        delta_w1, delta_b1, delta_w2, delta_b2 = backward_propagation(net1, out1, net2, out2, w2, X, Y)\n",
    "        if i % 10 == 0:\n",
    "            print(\"Iteration: \", i)\n",
    "            predictions = get_predictions(out2)\n",
    "            print(get_accuracy(predictions, Y))\n",
    "    return w1, b1, w2, b2"
   ]
  },
  {
   "cell_type": "code",
   "execution_count": 17,
   "id": "0b6d3edf",
   "metadata": {
    "execution": {
     "iopub.execute_input": "2022-06-02T11:40:18.282563Z",
     "iopub.status.busy": "2022-06-02T11:40:18.281918Z",
     "iopub.status.idle": "2022-06-02T11:40:59.500093Z",
     "shell.execute_reply": "2022-06-02T11:40:59.498942Z"
    },
    "papermill": {
     "duration": 41.230437,
     "end_time": "2022-06-02T11:40:59.503389",
     "exception": false,
     "start_time": "2022-06-02T11:40:18.272952",
     "status": "completed"
    },
    "tags": []
   },
   "outputs": [
    {
     "name": "stderr",
     "output_type": "stream",
     "text": [
      "/opt/conda/lib/python3.7/site-packages/ipykernel_launcher.py:2: RuntimeWarning: overflow encountered in exp\n",
      "  \n",
      "/opt/conda/lib/python3.7/site-packages/ipykernel_launcher.py:2: RuntimeWarning: invalid value encountered in true_divide\n",
      "  \n"
     ]
    },
    {
     "name": "stdout",
     "output_type": "stream",
     "text": [
      "Iteration:  0\n",
      "[0 0 0 ... 0 0 0] [4 8 0 ... 7 4 1]\n",
      "0.09875609756097561\n",
      "Iteration:  10\n",
      "[0 0 0 ... 0 0 0] [4 8 0 ... 7 4 1]\n",
      "0.09875609756097561\n",
      "Iteration:  20\n",
      "[0 0 0 ... 0 0 0] [4 8 0 ... 7 4 1]\n",
      "0.09875609756097561\n",
      "Iteration:  30\n",
      "[0 0 0 ... 0 0 0] [4 8 0 ... 7 4 1]\n",
      "0.09875609756097561\n",
      "Iteration:  40\n",
      "[0 0 0 ... 0 0 0] [4 8 0 ... 7 4 1]\n",
      "0.09875609756097561\n",
      "Iteration:  50\n",
      "[0 0 0 ... 0 0 0] [4 8 0 ... 7 4 1]\n",
      "0.09875609756097561\n",
      "Iteration:  60\n",
      "[0 0 0 ... 0 0 0] [4 8 0 ... 7 4 1]\n",
      "0.09875609756097561\n",
      "Iteration:  70\n",
      "[0 0 0 ... 0 0 0] [4 8 0 ... 7 4 1]\n",
      "0.09875609756097561\n",
      "Iteration:  80\n",
      "[0 0 0 ... 0 0 0] [4 8 0 ... 7 4 1]\n",
      "0.09875609756097561\n",
      "Iteration:  90\n",
      "[0 0 0 ... 0 0 0] [4 8 0 ... 7 4 1]\n",
      "0.09875609756097561\n"
     ]
    }
   ],
   "source": [
    "w1, b1, w2, b2 = gradient_descent(x_train, Y_train, 0.10, 100)"
   ]
  },
  {
   "cell_type": "code",
   "execution_count": 18,
   "id": "cac0ed43",
   "metadata": {
    "execution": {
     "iopub.execute_input": "2022-06-02T11:40:59.536005Z",
     "iopub.status.busy": "2022-06-02T11:40:59.535388Z",
     "iopub.status.idle": "2022-06-02T11:40:59.545778Z",
     "shell.execute_reply": "2022-06-02T11:40:59.544662Z"
    },
    "papermill": {
     "duration": 0.030717,
     "end_time": "2022-06-02T11:40:59.549285",
     "exception": false,
     "start_time": "2022-06-02T11:40:59.518568",
     "status": "completed"
    },
    "tags": []
   },
   "outputs": [],
   "source": [
    "def make_predictions(x, w1, b1, w2, b2):\n",
    "    _, _, _, output = forward_propagation(x, w1, b1, w2, b2)\n",
    "    predictions = get_predictions(output)\n",
    "    return predictions"
   ]
  },
  {
   "cell_type": "code",
   "execution_count": null,
   "id": "b0b66aad",
   "metadata": {
    "papermill": {
     "duration": 0.014808,
     "end_time": "2022-06-02T11:40:59.581008",
     "exception": false,
     "start_time": "2022-06-02T11:40:59.566200",
     "status": "completed"
    },
    "tags": []
   },
   "outputs": [],
   "source": []
  },
  {
   "cell_type": "code",
   "execution_count": null,
   "id": "08378dcf",
   "metadata": {
    "papermill": {
     "duration": 0.014826,
     "end_time": "2022-06-02T11:40:59.611843",
     "exception": false,
     "start_time": "2022-06-02T11:40:59.597017",
     "status": "completed"
    },
    "tags": []
   },
   "outputs": [],
   "source": []
  },
  {
   "cell_type": "code",
   "execution_count": 19,
   "id": "0225e7f2",
   "metadata": {
    "execution": {
     "iopub.execute_input": "2022-06-02T11:40:59.632422Z",
     "iopub.status.busy": "2022-06-02T11:40:59.632058Z",
     "iopub.status.idle": "2022-06-02T11:40:59.638384Z",
     "shell.execute_reply": "2022-06-02T11:40:59.637703Z"
    },
    "papermill": {
     "duration": 0.019052,
     "end_time": "2022-06-02T11:40:59.641612",
     "exception": false,
     "start_time": "2022-06-02T11:40:59.622560",
     "status": "completed"
    },
    "tags": []
   },
   "outputs": [],
   "source": [
    "def test_pred(index, w1, b1, w2, b2):\n",
    "    current_image = x_train[:, index, None]\n",
    "    prediction = make_predictions(x_train[:, index, None], w1, b1, w2, b2)\n",
    "    label = Y_train[index]\n",
    "    print(\"predictions:\", prediction)\n",
    "    print(\"label: \", label)\n",
    "    \n",
    "    current_image = current_image.reshape((28, 28)) * 225\n",
    "    plt.gray()\n",
    "    plt.imshow(current_image, interpolation= \"nearest\")\n",
    "    plt.show()"
   ]
  },
  {
   "cell_type": "code",
   "execution_count": 20,
   "id": "a119acbd",
   "metadata": {
    "execution": {
     "iopub.execute_input": "2022-06-02T11:40:59.660322Z",
     "iopub.status.busy": "2022-06-02T11:40:59.659101Z",
     "iopub.status.idle": "2022-06-02T11:40:59.866656Z",
     "shell.execute_reply": "2022-06-02T11:40:59.865594Z"
    },
    "papermill": {
     "duration": 0.219771,
     "end_time": "2022-06-02T11:40:59.869583",
     "exception": false,
     "start_time": "2022-06-02T11:40:59.649812",
     "status": "completed"
    },
    "tags": []
   },
   "outputs": [
    {
     "name": "stdout",
     "output_type": "stream",
     "text": [
      "predictions: [0]\n",
      "label:  8\n"
     ]
    },
    {
     "name": "stderr",
     "output_type": "stream",
     "text": [
      "/opt/conda/lib/python3.7/site-packages/ipykernel_launcher.py:2: RuntimeWarning: overflow encountered in exp\n",
      "  \n",
      "/opt/conda/lib/python3.7/site-packages/ipykernel_launcher.py:2: RuntimeWarning: invalid value encountered in true_divide\n",
      "  \n"
     ]
    },
    {
     "data": {
      "image/png": "[encoded data removed]",
      "text/plain": [
       "<Figure size 432x288 with 1 Axes>"
      ]
     },
     "metadata": {
      "needs_background": "light"
     },
     "output_type": "display_data"
    }
   ],
   "source": [
    "test_pred(1, w1, b1, w2, b2)"
   ]
  },
  {
   "cell_type": "code",
   "execution_count": null,
   "id": "718109a9",
   "metadata": {
    "papermill": {
     "duration": 0.008666,
     "end_time": "2022-06-02T11:40:59.887137",
     "exception": false,
     "start_time": "2022-06-02T11:40:59.878471",
     "status": "completed"
    },
    "tags": []
   },
   "outputs": [],
   "source": []
  },
  {
   "cell_type": "code",
   "execution_count": null,
   "id": "beb7d192",
   "metadata": {
    "papermill": {
     "duration": 0.008461,
     "end_time": "2022-06-02T11:40:59.904175",
     "exception": false,
     "start_time": "2022-06-02T11:40:59.895714",
     "status": "completed"
    },
    "tags": []
   },
   "outputs": [],
   "source": []
  },
  {
   "cell_type": "code",
   "execution_count": null,
   "id": "2e0f2b28",
   "metadata": {
    "papermill": {
     "duration": 0.008603,
     "end_time": "2022-06-02T11:40:59.921528",
     "exception": false,
     "start_time": "2022-06-02T11:40:59.912925",
     "status": "completed"
    },
    "tags": []
   },
   "outputs": [],
   "source": []
  }
 ],
 "metadata": {
  "kernelspec": {
   "display_name": "Python 3",
   "language": "python",
   "name": "python3"
  },
  "language_info": {
   "codemirror_mode": {
    "name": "ipython",
    "version": 3
   },
   "file_extension": ".py",
   "mimetype": "text/x-python",
   "name": "python",
   "nbconvert_exporter": "python",
   "pygments_lexer": "ipython3",
   "version": "3.7.12"
  },
  "papermill": {
   "default_parameters": {},
   "duration": 60.484623,
   "end_time": "2022-06-02T11:41:00.651732",
   "environment_variables": {},
   "exception": null,
   "input_path": "__notebook__.ipynb",
   "output_path": "__notebook__.ipynb",
   "parameters": {},
   "start_time": "2022-06-02T11:40:00.167109",
   "version": "2.3.4"
  }
 },
 "nbformat": 4,
 "nbformat_minor": 5
}
